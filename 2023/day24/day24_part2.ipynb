{
 "cells": [
  {
   "cell_type": "code",
   "execution_count": 1,
   "id": "5e9f7843",
   "metadata": {},
   "outputs": [],
   "source": [
    "import numpy as np\n",
    "from sympy import ZZ, Symbol, solve"
   ]
  },
  {
   "cell_type": "code",
   "execution_count": 2,
   "id": "bc0c773a",
   "metadata": {},
   "outputs": [],
   "source": [
    "with open(\"aoc_2023_day24_input\", \"r\") as f:\n",
    "    content = f.read()"
   ]
  },
  {
   "cell_type": "code",
   "execution_count": 3,
   "id": "94d5684f",
   "metadata": {},
   "outputs": [],
   "source": [
    "class Stone:\n",
    "    def __init__(self, p, v):\n",
    "        self.p = p\n",
    "        self.v = v\n",
    "    \n",
    "    def __repr__(self):\n",
    "        return f\"p={self.p}, v={self.v}\""
   ]
  },
  {
   "cell_type": "code",
   "execution_count": 4,
   "id": "a243a29f",
   "metadata": {},
   "outputs": [],
   "source": [
    "stones = []\n",
    "for line in content.split(\"\\n\"):\n",
    "    if line.strip() == \"\": continue\n",
    "    spl = line.split(\"@\")\n",
    "    p = tuple([int(p.strip()) for p in spl[0].split(\",\")])\n",
    "    v = tuple([int(v.strip()) for v in spl[1].split(\",\")])\n",
    "    stones.append(Stone(p, v))"
   ]
  },
  {
   "cell_type": "code",
   "execution_count": 40,
   "id": "e7d5a549",
   "metadata": {},
   "outputs": [],
   "source": [
    "# e.g. x equation: px + t*vx = sample px + t*sample vx\n",
    "# => px+t*vx-sample px-t*sample vx = 0\n",
    "# use 3 samples to solve\n",
    "np.random.seed(13)\n",
    "stone_sample = np.random.choice(stones, 3)\n",
    "equations = []\n",
    "# Position\n",
    "px = Symbol(\"px\", domain=ZZ)\n",
    "py = Symbol(\"py\", domain=ZZ)\n",
    "pz = Symbol(\"pz\", domain=ZZ)\n",
    "# Velocity\n",
    "vx = Symbol(\"vx\", domain=ZZ)\n",
    "vy = Symbol(\"vy\", domain=ZZ)\n",
    "vz = Symbol(\"vz\", domain=ZZ)\n",
    "equations = []\n",
    "for i, samp in enumerate(stone_sample):\n",
    "    (spx, spy, spz), (svx, svy, svz) = samp.p, samp.v\n",
    "    t = Symbol(f\"t{i}\", positive=True, domain=ZZ)\n",
    "    eqx = px + t * vx - spx - t * svx\n",
    "    eqy = py + t * vy - spy - t * svy\n",
    "    eqz = pz + t * vz - spz - t * svz\n",
    "    equations.extend([eqx, eqy, eqz])"
   ]
  },
  {
   "cell_type": "code",
   "execution_count": 43,
   "id": "b638c768",
   "metadata": {},
   "outputs": [
    {
     "data": {
      "text/plain": [
       "{px: 387382059881002,\n",
       " py: 371825688904742,\n",
       " pz: 171985558882512,\n",
       " t0: 654851990461,\n",
       " t1: 321516864343,\n",
       " t2: 820293477899,\n",
       " vx: -220,\n",
       " vy: -167,\n",
       " vz: 214}"
      ]
     },
     "execution_count": 43,
     "metadata": {},
     "output_type": "execute_result"
    }
   ],
   "source": [
    "solution = solve(equations, dict=True)[0]\n",
    "solution"
   ]
  },
  {
   "cell_type": "code",
   "execution_count": 42,
   "id": "7b3518b2",
   "metadata": {},
   "outputs": [
    {
     "data": {
      "text/latex": [
       "$\\displaystyle 931193307668256$"
      ],
      "text/plain": [
       "931193307668256"
      ]
     },
     "execution_count": 42,
     "metadata": {},
     "output_type": "execute_result"
    }
   ],
   "source": [
    "solution[px] + solution[py] + solution[pz]"
   ]
  }
 ],
 "metadata": {
  "kernelspec": {
   "display_name": "Python 3 (ipykernel)",
   "language": "python",
   "name": "python3"
  },
  "language_info": {
   "codemirror_mode": {
    "name": "ipython",
    "version": 3
   },
   "file_extension": ".py",
   "mimetype": "text/x-python",
   "name": "python",
   "nbconvert_exporter": "python",
   "pygments_lexer": "ipython3",
   "version": "3.10.10"
  }
 },
 "nbformat": 4,
 "nbformat_minor": 5
}
