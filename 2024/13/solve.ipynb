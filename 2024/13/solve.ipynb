{
 "cells": [
  {
   "cell_type": "code",
   "execution_count": 1,
   "id": "b62467e5-1945-4665-8c61-183dfff57948",
   "metadata": {},
   "outputs": [],
   "source": [
    "from sympy import symbols, Eq, solve\n",
    "import re"
   ]
  },
  {
   "cell_type": "code",
   "execution_count": 2,
   "id": "d7a122ea-cc00-42c3-aacb-bc3bb3d54f23",
   "metadata": {},
   "outputs": [],
   "source": [
    "lines = []\n",
    "with open(\"input\", \"r\") as f:\n",
    "    content = f.read()\n",
    "    for line in content.split(\"\\n\"):\n",
    "        lines.append(line.strip())"
   ]
  },
  {
   "cell_type": "markdown",
   "id": "aeaabf18",
   "metadata": {},
   "source": [
    "## Part 1"
   ]
  },
  {
   "cell_type": "code",
   "execution_count": 9,
   "id": "72f2c5dd",
   "metadata": {},
   "outputs": [],
   "source": [
    "res = []\n",
    "for line in lines:\n",
    "    if line.startswith(\"Prize:\"):\n",
    "        m = re.search(r\"X=(\\d+), Y=(\\d+)\", line)\n",
    "        px = int(m[1])\n",
    "        py = int(m[2])\n",
    "        continue\n",
    "    if line.startswith(\"Button A:\"):\n",
    "        m = re.search(r\"X\\+(\\d+), Y\\+(\\d+)\", line)\n",
    "        ax = int(m[1])\n",
    "        ay = int(m[2])\n",
    "        continue\n",
    "    if line.startswith(\"Button B:\"):\n",
    "        m = re.search(r\"X\\+(\\d+), Y\\+(\\d+)\", line)\n",
    "        bx = int(m[1])\n",
    "        by = int(m[2])\n",
    "        continue\n",
    "    #print(ax,ay,bx,by,px,py)\n",
    "    # Define variables\n",
    "    A, B = symbols('A B', integer=True)\n",
    "    \n",
    "    # Define the equations\n",
    "    eq1 = Eq(ax*A + bx*B, px)\n",
    "    eq2 = Eq(ay*A + by*B, py)\n",
    "    \n",
    "    # Solve the system of equations\n",
    "    solution = solve([eq1, eq2], (A, B), dict=True)\n",
    "    if len(solution) > 0:\n",
    "        res.append(3*solution[0][A]+solution[0][B])    "
   ]
  },
  {
   "cell_type": "code",
   "execution_count": 10,
   "id": "4a78c835",
   "metadata": {},
   "outputs": [
    {
     "name": "stdout",
     "output_type": "stream",
     "text": [
      "29187\n"
     ]
    }
   ],
   "source": [
    "print(sum(res))"
   ]
  },
  {
   "cell_type": "markdown",
   "id": "197a3809",
   "metadata": {},
   "source": [
    "## Part 2"
   ]
  },
  {
   "cell_type": "code",
   "execution_count": 11,
   "id": "05d44983-0629-4267-a0b8-f0d8464883cf",
   "metadata": {},
   "outputs": [],
   "source": [
    "res = []\n",
    "for line in lines:\n",
    "    if line.startswith(\"Prize:\"):\n",
    "        m = re.search(r\"X=(\\d+), Y=(\\d+)\", line)\n",
    "        px = int(m[1])\n",
    "        py = int(m[2])\n",
    "        continue\n",
    "    if line.startswith(\"Button A:\"):\n",
    "        m = re.search(r\"X\\+(\\d+), Y\\+(\\d+)\", line)\n",
    "        ax = int(m[1])\n",
    "        ay = int(m[2])\n",
    "        continue\n",
    "    if line.startswith(\"Button B:\"):\n",
    "        m = re.search(r\"X\\+(\\d+), Y\\+(\\d+)\", line)\n",
    "        bx = int(m[1])\n",
    "        by = int(m[2])\n",
    "        continue\n",
    "    #print(ax,ay,bx,by,px,py)\n",
    "    # Define variables\n",
    "    A, B = symbols('A B', integer=True)\n",
    "    \n",
    "    # Define the equations\n",
    "    eq1 = Eq(ax*A + bx*B, px + 10000000000000)\n",
    "    eq2 = Eq(ay*A + by*B, py + 10000000000000)\n",
    "    \n",
    "    # Solve the system of equations\n",
    "    solution = solve([eq1, eq2], (A, B), dict=True)\n",
    "    if len(solution) > 0:\n",
    "        res.append(3*solution[0][A]+solution[0][B])    "
   ]
  },
  {
   "cell_type": "code",
   "execution_count": 12,
   "id": "6d0d9c70-27e4-4e89-9cac-7e0827e82c3d",
   "metadata": {},
   "outputs": [
    {
     "name": "stdout",
     "output_type": "stream",
     "text": [
      "99968222587852\n"
     ]
    }
   ],
   "source": [
    "print(sum(res))"
   ]
  },
  {
   "cell_type": "code",
   "execution_count": null,
   "id": "96a50d99-011a-4638-a0b7-c27df1e5a6dc",
   "metadata": {},
   "outputs": [],
   "source": []
  }
 ],
 "metadata": {
  "kernelspec": {
   "display_name": "Python 3 (ipykernel)",
   "language": "python",
   "name": "python3"
  },
  "language_info": {
   "codemirror_mode": {
    "name": "ipython",
    "version": 3
   },
   "file_extension": ".py",
   "mimetype": "text/x-python",
   "name": "python",
   "nbconvert_exporter": "python",
   "pygments_lexer": "ipython3",
   "version": "3.10.10"
  }
 },
 "nbformat": 4,
 "nbformat_minor": 5
}
